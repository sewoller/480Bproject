{
 "cells": [
  {
   "cell_type": "code",
   "execution_count": 1,
   "id": "1f37dd6b-fe2b-44e4-9051-806867694e1b",
   "metadata": {},
   "outputs": [],
   "source": [
    "#import libraries\n",
    "import pandas as pd\n",
    "\n",
    "# ignore warnings\n",
    "import warnings\n",
    "warnings.filterwarnings('ignore')"
   ]
  },
  {
   "cell_type": "code",
   "execution_count": 2,
   "id": "c418fb7b-acb6-404e-8add-fbf7a4fc4d43",
   "metadata": {},
   "outputs": [],
   "source": [
    "# load datasets\n",
    "a = pd.read_csv('Answers.csv', usecols = ['Id', 'OwnerUserId', 'CreationDate', 'ParentId', 'Score', 'Body'], low_memory=False)\n",
    "#print(a.shape)\n",
    "#print(a.info())\n",
    "#a.head()\n",
    "q = pd.read_csv('Questions.csv', usecols = ['Id', 'OwnerUserId', 'CreationDate', 'ClosedDate', 'Score', 'Title', 'Body'], low_memory=False)\n",
    "#print(q.shape)\n",
    "#print(q.info())\n",
    "#q.head()\n",
    "t = pd.read_csv('Tags.csv', usecols = ['Id', 'Tag'], low_memory=False)\n",
    "#print(t.shape)\n",
    "#print(t.info())\n",
    "#t.head()"
   ]
  },
  {
   "cell_type": "markdown",
   "id": "3209820e-2d82-49e9-8eb2-1bc5070a95c7",
   "metadata": {},
   "source": [
    "<H2>Clean the Data</H2>\n",
    "We now have the data from Kaggle loaded into three dataframes. We will first clean up the data by removing any rows with invalid numerical values and converting then into integer types. We will also remove any columns that we don't need. "
   ]
  },
  {
   "cell_type": "code",
   "execution_count": 3,
   "id": "2d5e38ed-46a2-46a5-a26b-3c10a550ec51",
   "metadata": {},
   "outputs": [
    {
     "name": "stdout",
     "output_type": "stream",
     "text": [
      "<class 'pandas.core.frame.DataFrame'>\n",
      "Index: 976367 entries, 0 to 1048574\n",
      "Data columns (total 6 columns):\n",
      " #   Column        Non-Null Count   Dtype \n",
      "---  ------        --------------   ----- \n",
      " 0   Id            976367 non-null  int32 \n",
      " 1   CreationDate  976367 non-null  object\n",
      " 2   ClosedDate    31217 non-null   object\n",
      " 3   Score         976367 non-null  int32 \n",
      " 4   Title         976367 non-null  object\n",
      " 5   Body          976366 non-null  object\n",
      "dtypes: int32(2), object(4)\n",
      "memory usage: 44.7+ MB\n",
      "None\n",
      "<class 'pandas.core.frame.DataFrame'>\n",
      "RangeIndex: 1048575 entries, 0 to 1048574\n",
      "Data columns (total 4 columns):\n",
      " #   Column        Non-Null Count    Dtype \n",
      "---  ------        --------------    ----- \n",
      " 0   CreationDate  1048575 non-null  object\n",
      " 1   ParentId      1048575 non-null  int64 \n",
      " 2   Score         1048575 non-null  int64 \n",
      " 3   Body          1048575 non-null  object\n",
      "dtypes: int64(2), object(2)\n",
      "memory usage: 32.0+ MB\n",
      "None\n",
      "Java:  (29266, 2)\n",
      "        Id   Tag\n",
      "127   4080  java\n",
      "145   4630  java\n",
      "211   7720  java\n",
      "304  10980  java\n",
      "346  11930  java\n",
      "Python:  (13470, 2)\n",
      "         Id     Tag\n",
      "312   11060  python\n",
      "503   17250  python\n",
      "546   19030  python\n",
      "905   31340  python\n",
      "1027  34020  python\n",
      "C++:  (14691, 2)\n",
      "        Id  Tag\n",
      "18     330  c++\n",
      "107   3150  c++\n",
      "112   3230  c++\n",
      "216   7880  c++\n",
      "302  10880  c++\n"
     ]
    }
   ],
   "source": [
    "#clean questions dataframe\n",
    "q_clean = q\n",
    "# drop any rows where ID contains non-numerical values\n",
    "q_clean = q_clean[q_clean['Id'].str.contains('\\D') == False]\n",
    "q_clean['Id'] = q_clean['Id'].astype(str).astype(int)\n",
    "# drop any rows where Score contains non-numerical values\n",
    "q_clean = q_clean[q_clean['Score'].str.contains('\\D') == False]\n",
    "q_clean['Score'] = q_clean['Score'].astype(str).astype(int)\n",
    "#remove unwanted columns\n",
    "q_clean.drop([\"OwnerUserId\"], axis=1, inplace=True)\n",
    "print(q_clean.info())\n",
    "\n",
    "#clean answers dataframe\n",
    "a_clean = a\n",
    "#remove unwanted columns\n",
    "a_clean.drop([\"Id\", \"OwnerUserId\"], axis=1, inplace=True)\n",
    "print(a_clean.info())"
   ]
  },
  {
   "cell_type": "markdown",
   "id": "606d8428-890e-43fe-a594-52356fb72072",
   "metadata": {},
   "source": [
    "<H2>Reduce to Relevant Data</H2>\n",
    "There is much more data here than we need, as we are focusing on posts regarding the following programming languages: java, c++, and python. We must remove the data we won't be using. \n",
    "\n",
    "In order to do this, we will first create three new dataframes from the tag dataset with the tags java, python, and c++. "
   ]
  },
  {
   "cell_type": "code",
   "execution_count": null,
   "id": "e7812fc1-1573-4b2f-933f-4a543b5a574d",
   "metadata": {},
   "outputs": [],
   "source": [
    "#extract relevent posts by tags\n",
    "# t.info()\n",
    "# t['Tag'].value_counts(ascending=False).reset_index().head(15)\n",
    "t_java = pd.DataFrame(t[t.Tag == 'java'])\n",
    "print(\"Java: \", t_java.shape)\n",
    "print(t_java.head())\n",
    "\n",
    "t_python = pd.DataFrame(t[t.Tag == 'python'])\n",
    "print(\"Python: \", t_python.shape)\n",
    "print(t_python.head())\n",
    "\n",
    "t_cpp = pd.DataFrame(t[t.Tag == 'c++'])\n",
    "print(\"C++: \", t_cpp.shape)\n",
    "print(t_cpp.head())"
   ]
  },
  {
   "cell_type": "markdown",
   "id": "c552c0f6-ce32-4f54-9e20-7493b262d8e7",
   "metadata": {},
   "source": [
    "<H2>Reduce to Relevant Data pt 2</H2>\n",
    "We will then use the IDs in the tag dataframes to extract the corresponding rows from the questions and answers dataframes. We will end up with six dataframes: two for each lan"
   ]
  }
 ],
 "metadata": {
  "kernelspec": {
   "display_name": "Python 3 (ipykernel)",
   "language": "python",
   "name": "python3"
  },
  "language_info": {
   "codemirror_mode": {
    "name": "ipython",
    "version": 3
   },
   "file_extension": ".py",
   "mimetype": "text/x-python",
   "name": "python",
   "nbconvert_exporter": "python",
   "pygments_lexer": "ipython3",
   "version": "3.10.2"
  }
 },
 "nbformat": 4,
 "nbformat_minor": 5
}
