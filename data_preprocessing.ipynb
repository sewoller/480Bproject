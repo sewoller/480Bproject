{
 "cells": [
  {
   "cell_type": "code",
   "execution_count": 16,
   "id": "1f37dd6b-fe2b-44e4-9051-806867694e1b",
   "metadata": {},
   "outputs": [],
   "source": [
    "#import libraries\n",
    "import pandas as pd\n",
    "\n",
    "# ignore warnings\n",
    "import warnings\n",
    "warnings.filterwarnings('ignore')"
   ]
  },
  {
   "cell_type": "code",
   "execution_count": 2,
   "id": "c418fb7b-acb6-404e-8add-fbf7a4fc4d43",
   "metadata": {},
   "outputs": [
    {
     "name": "stdout",
     "output_type": "stream",
     "text": [
      "(1048575, 6)\n"
     ]
    },
    {
     "data": {
      "text/html": [
       "<div>\n",
       "<style scoped>\n",
       "    .dataframe tbody tr th:only-of-type {\n",
       "        vertical-align: middle;\n",
       "    }\n",
       "\n",
       "    .dataframe tbody tr th {\n",
       "        vertical-align: top;\n",
       "    }\n",
       "\n",
       "    .dataframe thead th {\n",
       "        text-align: right;\n",
       "    }\n",
       "</style>\n",
       "<table border=\"1\" class=\"dataframe\">\n",
       "  <thead>\n",
       "    <tr style=\"text-align: right;\">\n",
       "      <th></th>\n",
       "      <th>Id</th>\n",
       "      <th>OwnerUserId</th>\n",
       "      <th>CreationDate</th>\n",
       "      <th>ParentId</th>\n",
       "      <th>Score</th>\n",
       "      <th>Body</th>\n",
       "    </tr>\n",
       "  </thead>\n",
       "  <tbody>\n",
       "    <tr>\n",
       "      <th>0</th>\n",
       "      <td>92</td>\n",
       "      <td>61.0</td>\n",
       "      <td>2008-08-01T14:45:37Z</td>\n",
       "      <td>90</td>\n",
       "      <td>13</td>\n",
       "      <td>&lt;p&gt;&lt;a href=\"http://svnbook.red-bean.com/\"&gt;Vers...</td>\n",
       "    </tr>\n",
       "    <tr>\n",
       "      <th>1</th>\n",
       "      <td>124</td>\n",
       "      <td>26.0</td>\n",
       "      <td>2008-08-01T16:09:47Z</td>\n",
       "      <td>80</td>\n",
       "      <td>12</td>\n",
       "      <td>&lt;p&gt;I wound up using this. It is a kind of a ha...</td>\n",
       "    </tr>\n",
       "    <tr>\n",
       "      <th>2</th>\n",
       "      <td>199</td>\n",
       "      <td>50.0</td>\n",
       "      <td>2008-08-01T19:36:46Z</td>\n",
       "      <td>180</td>\n",
       "      <td>1</td>\n",
       "      <td>&lt;p&gt;I've read somewhere the human eye can't dis...</td>\n",
       "    </tr>\n",
       "    <tr>\n",
       "      <th>3</th>\n",
       "      <td>269</td>\n",
       "      <td>91.0</td>\n",
       "      <td>2008-08-01T23:49:57Z</td>\n",
       "      <td>260</td>\n",
       "      <td>4</td>\n",
       "      <td>&lt;p&gt;Yes, I thought about that, but I soon figur...</td>\n",
       "    </tr>\n",
       "    <tr>\n",
       "      <th>4</th>\n",
       "      <td>307</td>\n",
       "      <td>49.0</td>\n",
       "      <td>2008-08-02T01:49:46Z</td>\n",
       "      <td>260</td>\n",
       "      <td>28</td>\n",
       "      <td>&lt;p&gt;&lt;a href=\"http://www.codeproject.com/Article...</td>\n",
       "    </tr>\n",
       "  </tbody>\n",
       "</table>\n",
       "</div>"
      ],
      "text/plain": [
       "    Id  OwnerUserId          CreationDate  ParentId  Score  \\\n",
       "0   92         61.0  2008-08-01T14:45:37Z        90     13   \n",
       "1  124         26.0  2008-08-01T16:09:47Z        80     12   \n",
       "2  199         50.0  2008-08-01T19:36:46Z       180      1   \n",
       "3  269         91.0  2008-08-01T23:49:57Z       260      4   \n",
       "4  307         49.0  2008-08-02T01:49:46Z       260     28   \n",
       "\n",
       "                                                Body  \n",
       "0  <p><a href=\"http://svnbook.red-bean.com/\">Vers...  \n",
       "1  <p>I wound up using this. It is a kind of a ha...  \n",
       "2  <p>I've read somewhere the human eye can't dis...  \n",
       "3  <p>Yes, I thought about that, but I soon figur...  \n",
       "4  <p><a href=\"http://www.codeproject.com/Article...  "
      ]
     },
     "execution_count": 2,
     "metadata": {},
     "output_type": "execute_result"
    }
   ],
   "source": [
    "# load datasets\n",
    "a = pd.read_csv('Answers.csv', usecols = ['Id', 'OwnerUserId', 'CreationDate', 'ParentId', 'Score', 'Body'], low_memory=False)\n",
    "#print(a.shape)\n",
    "#print(a.info())\n",
    "#a.head()\n",
    "q = pd.read_csv('Questions.csv', usecols = ['Id', 'OwnerUserId', 'CreationDate', 'ClosedDate', 'Score', 'Title', 'Body'], low_memory=False)\n",
    "#print(q.shape)\n",
    "#print(q.info())\n",
    "#q.head()\n",
    "t = pd.read_csv('Tags.csv', usecols = ['Id', 'Tag'], low_memory=False)\n",
    "#print(t.shape)\n",
    "#print(t.info())\n",
    "#t.head()"
   ]
  },
  {
   "cell_type": "markdown",
   "id": "3209820e-2d82-49e9-8eb2-1bc5070a95c7",
   "metadata": {},
   "source": [
    "<H1>Clean the Data</H1>\n",
    "We now have the data from kaggle loaded into three dataframes. There is much more data here than we need, as we are focusing on questions using the following programming languages: (java, c++, python). \n",
    "\n",
    "In order to do this, we will first create three new tag datasets with only java, python, and c++. We will then use these to remove all rows from the questions and answers that are not tagged with one of these three languages. "
   ]
  },
  {
   "cell_type": "code",
   "execution_count": 23,
   "id": "2d5e38ed-46a2-46a5-a26b-3c10a550ec51",
   "metadata": {},
   "outputs": [
    {
     "name": "stdout",
     "output_type": "stream",
     "text": [
      "<class 'pandas.core.frame.DataFrame'>\n",
      "Index: 976367 entries, 0 to 1048574\n",
      "Data columns (total 6 columns):\n",
      " #   Column        Non-Null Count   Dtype \n",
      "---  ------        --------------   ----- \n",
      " 0   Id            976367 non-null  int32 \n",
      " 1   CreationDate  976367 non-null  object\n",
      " 2   ClosedDate    31217 non-null   object\n",
      " 3   Score         976367 non-null  int32 \n",
      " 4   Title         976367 non-null  object\n",
      " 5   Body          976366 non-null  object\n",
      "dtypes: int32(2), object(4)\n",
      "memory usage: 44.7+ MB\n",
      "None\n"
     ]
    }
   ],
   "source": [
    "# clean the data\n",
    "\n",
    "# drop any rows where ID contains non-numerical values\n",
    "q_clean = q[q['Id'].str.contains('\\D') == False]\n",
    "q_clean['Id'] = q_clean['Id'].astype(str).astype(int)\n",
    "# drop any rows where Score contains non-numerical values\n",
    "q_clean = q_clean[q_clean['Score'].str.contains('\\D') == False]\n",
    "q_clean['Score'] = q_clean['Score'].astype(str).astype(int)\n",
    "#remove unwanted columns\n",
    "q_clean.drop([\"OwnerUserId\"], axis=1, inplace=True)\n",
    "print(q_clean.info())"
   ]
  },
  {
   "cell_type": "code",
   "execution_count": 26,
   "id": "01a2a68a-9871-4992-b554-cb8f99cbf4e5",
   "metadata": {},
   "outputs": [
    {
     "name": "stdout",
     "output_type": "stream",
     "text": [
      "<class 'pandas.core.frame.DataFrame'>\n",
      "RangeIndex: 1048575 entries, 0 to 1048574\n",
      "Data columns (total 4 columns):\n",
      " #   Column        Non-Null Count    Dtype \n",
      "---  ------        --------------    ----- \n",
      " 0   CreationDate  1048575 non-null  object\n",
      " 1   ParentId      1048575 non-null  int64 \n",
      " 2   Score         1048575 non-null  int64 \n",
      " 3   Body          1048575 non-null  object\n",
      "dtypes: int64(2), object(2)\n",
      "memory usage: 32.0+ MB\n",
      "None\n"
     ]
    }
   ],
   "source": [
    "#a.info()\n",
    "#remove unwanted columns\n",
    "a_clean = a\n",
    "a_clean.drop([\"Id\", \"OwnerUserId\"], axis=1, inplace=True)\n",
    "print(a_clean.info())"
   ]
  },
  {
   "cell_type": "code",
   "execution_count": 28,
   "id": "8104dddf-1832-4e27-87a7-635d56286340",
   "metadata": {},
   "outputs": [
    {
     "name": "stdout",
     "output_type": "stream",
     "text": [
      "<class 'pandas.core.frame.DataFrame'>\n",
      "RangeIndex: 1048575 entries, 0 to 1048574\n",
      "Data columns (total 2 columns):\n",
      " #   Column  Non-Null Count    Dtype \n",
      "---  ------  --------------    ----- \n",
      " 0   Id      1048575 non-null  int64 \n",
      " 1   Tag     1048236 non-null  object\n",
      "dtypes: int64(1), object(1)\n",
      "memory usage: 16.0+ MB\n"
     ]
    },
    {
     "data": {
      "text/html": [
       "<div>\n",
       "<style scoped>\n",
       "    .dataframe tbody tr th:only-of-type {\n",
       "        vertical-align: middle;\n",
       "    }\n",
       "\n",
       "    .dataframe tbody tr th {\n",
       "        vertical-align: top;\n",
       "    }\n",
       "\n",
       "    .dataframe thead th {\n",
       "        text-align: right;\n",
       "    }\n",
       "</style>\n",
       "<table border=\"1\" class=\"dataframe\">\n",
       "  <thead>\n",
       "    <tr style=\"text-align: right;\">\n",
       "      <th></th>\n",
       "      <th>Tag</th>\n",
       "      <th>count</th>\n",
       "    </tr>\n",
       "  </thead>\n",
       "  <tbody>\n",
       "    <tr>\n",
       "      <th>0</th>\n",
       "      <td>c#</td>\n",
       "      <td>34979</td>\n",
       "    </tr>\n",
       "    <tr>\n",
       "      <th>1</th>\n",
       "      <td>java</td>\n",
       "      <td>29266</td>\n",
       "    </tr>\n",
       "    <tr>\n",
       "      <th>2</th>\n",
       "      <td>php</td>\n",
       "      <td>27837</td>\n",
       "    </tr>\n",
       "    <tr>\n",
       "      <th>3</th>\n",
       "      <td>javascript</td>\n",
       "      <td>26199</td>\n",
       "    </tr>\n",
       "    <tr>\n",
       "      <th>4</th>\n",
       "      <td>jquery</td>\n",
       "      <td>22814</td>\n",
       "    </tr>\n",
       "    <tr>\n",
       "      <th>5</th>\n",
       "      <td>android</td>\n",
       "      <td>22198</td>\n",
       "    </tr>\n",
       "    <tr>\n",
       "      <th>6</th>\n",
       "      <td>c++</td>\n",
       "      <td>14691</td>\n",
       "    </tr>\n",
       "    <tr>\n",
       "      <th>7</th>\n",
       "      <td>iphone</td>\n",
       "      <td>14482</td>\n",
       "    </tr>\n",
       "    <tr>\n",
       "      <th>8</th>\n",
       "      <td>python</td>\n",
       "      <td>13470</td>\n",
       "    </tr>\n",
       "    <tr>\n",
       "      <th>9</th>\n",
       "      <td>asp.net</td>\n",
       "      <td>13433</td>\n",
       "    </tr>\n",
       "    <tr>\n",
       "      <th>10</th>\n",
       "      <td>.net</td>\n",
       "      <td>12802</td>\n",
       "    </tr>\n",
       "    <tr>\n",
       "      <th>11</th>\n",
       "      <td>html</td>\n",
       "      <td>12402</td>\n",
       "    </tr>\n",
       "    <tr>\n",
       "      <th>12</th>\n",
       "      <td>mysql</td>\n",
       "      <td>11863</td>\n",
       "    </tr>\n",
       "    <tr>\n",
       "      <th>13</th>\n",
       "      <td>objective-c</td>\n",
       "      <td>10128</td>\n",
       "    </tr>\n",
       "    <tr>\n",
       "      <th>14</th>\n",
       "      <td>sql</td>\n",
       "      <td>9742</td>\n",
       "    </tr>\n",
       "  </tbody>\n",
       "</table>\n",
       "</div>"
      ],
      "text/plain": [
       "            Tag  count\n",
       "0            c#  34979\n",
       "1          java  29266\n",
       "2           php  27837\n",
       "3    javascript  26199\n",
       "4        jquery  22814\n",
       "5       android  22198\n",
       "6           c++  14691\n",
       "7        iphone  14482\n",
       "8        python  13470\n",
       "9       asp.net  13433\n",
       "10         .net  12802\n",
       "11         html  12402\n",
       "12        mysql  11863\n",
       "13  objective-c  10128\n",
       "14          sql   9742"
      ]
     },
     "execution_count": 28,
     "metadata": {},
     "output_type": "execute_result"
    }
   ],
   "source": [
    "t.info()\n",
    "t['Tag'].value_counts(ascending=False).reset_index().head(15)"
   ]
  },
  {
   "cell_type": "markdown",
   "id": "83326a05-4ad4-4dad-9908-b99a2f59d50e",
   "metadata": {},
   "source": [
    "We can see that the languages we are interested in (java, python, c++) are all in the 15 most used tags within the dataset. We will now use the tags to remove any data we aren't interested in. \n",
    "\n",
    "Using the count of these tags, we know our cleaned tag dataset should have (29266+14691+13470) 57427 entries"
   ]
  },
  {
   "cell_type": "code",
   "execution_count": 8,
   "id": "d8f0693d-13bc-4000-8b64-fa69f5525ba5",
   "metadata": {},
   "outputs": [
    {
     "name": "stdout",
     "output_type": "stream",
     "text": [
      "Java:  (29266, 2)\n",
      "        Id   Tag\n",
      "127   4080  java\n",
      "145   4630  java\n",
      "211   7720  java\n",
      "304  10980  java\n",
      "346  11930  java\n",
      "Python:  (13470, 2)\n",
      "         Id     Tag\n",
      "312   11060  python\n",
      "503   17250  python\n",
      "546   19030  python\n",
      "905   31340  python\n",
      "1027  34020  python\n",
      "C++:  (14691, 2)\n",
      "        Id  Tag\n",
      "18     330  c++\n",
      "107   3150  c++\n",
      "112   3230  c++\n",
      "216   7880  c++\n",
      "302  10880  c++\n"
     ]
    }
   ],
   "source": [
    "t_java = pd.DataFrame(t[t.Tag == 'java'])\n",
    "print(\"Java: \", t_java.shape)\n",
    "print(t_java.head())\n",
    "\n",
    "t_python = pd.DataFrame(t[t.Tag == 'python'])\n",
    "print(\"Python: \", t_python.shape)\n",
    "print(t_python.head())\n",
    "\n",
    "t_cpp = pd.DataFrame(t[t.Tag == 'c++'])\n",
    "print(\"C++: \", t_cpp.shape)\n",
    "print(t_cpp.head())"
   ]
  },
  {
   "cell_type": "markdown",
   "id": "8ef2f162-da75-4dbc-94e3-c062879428fa",
   "metadata": {},
   "source": [
    "Now we have the Ids for the three relevent tags in three separate datasets. We will use these to scrape the relevent rows from the questions and answers datasets. "
   ]
  },
  {
   "cell_type": "code",
   "execution_count": 9,
   "id": "b9c49870-0c6c-47d3-863c-f98084bb5105",
   "metadata": {},
   "outputs": [
    {
     "name": "stdout",
     "output_type": "stream",
     "text": [
      "<class 'pandas.core.frame.DataFrame'>\n",
      "Index: 29266 entries, 127 to 1048569\n",
      "Data columns (total 2 columns):\n",
      " #   Column  Non-Null Count  Dtype \n",
      "---  ------  --------------  ----- \n",
      " 0   Id      29266 non-null  int64 \n",
      " 1   Tag     29266 non-null  object\n",
      "dtypes: int64(1), object(1)\n",
      "memory usage: 685.9+ KB\n",
      "None\n",
      "<class 'pandas.core.frame.DataFrame'>\n",
      "RangeIndex: 1048575 entries, 0 to 1048574\n",
      "Data columns (total 7 columns):\n",
      " #   Column        Non-Null Count    Dtype \n",
      "---  ------        --------------    ----- \n",
      " 0   Id            1045563 non-null  object\n",
      " 1   OwnerUserId   1021828 non-null  object\n",
      " 2   CreationDate  1034314 non-null  object\n",
      " 3   ClosedDate    44685 non-null    object\n",
      " 4   Score         1033835 non-null  object\n",
      " 5   Title         1033783 non-null  object\n",
      " 6   Body          1033747 non-null  object\n",
      "dtypes: object(7)\n",
      "memory usage: 56.0+ MB\n",
      "None\n"
     ]
    }
   ],
   "source": [
    "print(t_java.info())\n",
    "print(q.info())"
   ]
  }
 ],
 "metadata": {
  "kernelspec": {
   "display_name": "Python 3 (ipykernel)",
   "language": "python",
   "name": "python3"
  },
  "language_info": {
   "codemirror_mode": {
    "name": "ipython",
    "version": 3
   },
   "file_extension": ".py",
   "mimetype": "text/x-python",
   "name": "python",
   "nbconvert_exporter": "python",
   "pygments_lexer": "ipython3",
   "version": "3.10.2"
  }
 },
 "nbformat": 4,
 "nbformat_minor": 5
}
