{
 "cells": [
  {
   "cell_type": "code",
   "execution_count": 1,
   "id": "4b217e95-50ed-410e-8ce2-13814d407422",
   "metadata": {},
   "outputs": [],
   "source": [
    "#import libraries\n",
    "import pandas as pd\n",
    "\n",
    "# ignore warnings\n",
    "import warnings\n",
    "warnings.filterwarnings('ignore')"
   ]
  },
  {
   "cell_type": "code",
   "execution_count": 2,
   "id": "6c98aa50-39ea-444c-be12-3002df321f38",
   "metadata": {},
   "outputs": [],
   "source": [
    "a = pd.read_csv('Answers.csv', usecols = ['Id', 'OwnerUserId', 'CreationDate', 'ParentId', 'Score', 'Body'], low_memory=False)\n",
    "q = pd.read_csv('Questions.csv', usecols = ['Id', 'OwnerUserId', 'CreationDate', 'ClosedDate', 'Score', 'Title', 'Body'], low_memory=False)\n",
    "t = pd.read_csv('Tags.csv', usecols = ['Id', 'Tag'], low_memory=False)\n",
    "\n",
    "q_clean = q\n",
    "q_clean = q_clean[q_clean['Id'].str.contains('\\D') == False]\n",
    "q_clean['Id'] = q_clean['Id'].astype(str).astype(int)\n",
    "q_clean = q_clean[q_clean['Score'].str.contains('\\D') == False]\n",
    "q_clean['Score'] = q_clean['Score'].astype(str).astype(int)\n",
    "q_clean.drop([\"OwnerUserId\"], axis=1, inplace=True)\n",
    "q_clean['Body'] = q_clean['Body'].astype(str)\n",
    "\n",
    "a_clean = a\n",
    "a_clean.drop([\"Id\", \"OwnerUserId\"], axis=1, inplace=True)\n",
    "a_clean.rename(columns={'ParentId' : 'Id'}, inplace=True)"
   ]
  },
  {
   "cell_type": "code",
   "execution_count": 3,
   "id": "76bf8ce8-aeba-477b-9601-00327fa9d28d",
   "metadata": {},
   "outputs": [],
   "source": [
    "import re\n",
    "\n",
    "q_clean['Title'] = \\\n",
    "q_clean['Title'].map(lambda x: re.sub('[,\\.!?]', '', x))\n",
    "q_clean['Title'] = \\\n",
    "q_clean['Title'].map(lambda x: x.lower())"
   ]
  },
  {
   "cell_type": "code",
   "execution_count": 4,
   "id": "ea1540b2-263a-489f-b76f-ececbfc3d7bc",
   "metadata": {},
   "outputs": [],
   "source": [
    "q_clean['Body'] = \\\n",
    "q_clean['Body'].map(lambda x: re.sub('[,\\.!?]', '', x))\n",
    "q_clean['Body'] = \\\n",
    "q_clean['Body'].map(lambda x: x.lower())"
   ]
  },
  {
   "cell_type": "code",
   "execution_count": 5,
   "id": "16d723d6-3905-44d8-9d48-4d5c5d7152d9",
   "metadata": {},
   "outputs": [],
   "source": [
    "a_clean['Body'] = \\\n",
    "a_clean['Body'].map(lambda x: re.sub('[,\\.!?]', '', x))\n",
    "a_clean['Body'] = \\\n",
    "a_clean['Body'].map(lambda x: x.lower())"
   ]
  },
  {
   "cell_type": "code",
   "execution_count": 6,
   "id": "07c71dd0-3c15-4883-807a-0e9f7e59f7fd",
   "metadata": {},
   "outputs": [
    {
     "name": "stdout",
     "output_type": "stream",
     "text": [
      "(1048575, 2)\n",
      "(21984,)\n"
     ]
    }
   ],
   "source": [
    "print(t.shape) #1,048,575 rows\n",
    "print(t['Tag'].unique().shape) # 21,984 unique values\n",
    "#\n",
    "unique_tags = t['Tag'].value_counts(ascending=False).reset_index()\n",
    "# tags = pd.DataFrame(t[t.Tag == '*c*'])\n",
    "# print(tags.shape)\n",
    "# tags.head(15)"
   ]
  },
  {
   "cell_type": "markdown",
   "id": "0dc1c46d-f9a3-4713-9414-a90337b03e7e",
   "metadata": {},
   "source": [
    "<h1>Get all Id from posts with relevent tags</h1>"
   ]
  },
  {
   "cell_type": "markdown",
   "id": "c7367fb1-7887-48e2-aca6-69047149486b",
   "metadata": {},
   "source": [
    "attempt 1:\n",
    "only gets id's from posts tagged with the language. no information on libraries. "
   ]
  },
  {
   "cell_type": "code",
   "execution_count": 7,
   "id": "431c071f-1a0c-4a97-bd11-f80993a20987",
   "metadata": {},
   "outputs": [],
   "source": [
    "t_java = pd.DataFrame(t[t.Tag == 'java'])\n",
    "t_python = pd.DataFrame(t[t.Tag == 'python'])\n",
    "t_cpp = pd.DataFrame(t[t.Tag == 'c++'])\n",
    "t_java = pd.DataFrame(t[t.Tag == 'java'])\n",
    "t_python = pd.DataFrame(t[t.Tag == 'python'])\n",
    "t_cpp = pd.DataFrame(t[t.Tag == 'c++'])"
   ]
  },
  {
   "cell_type": "markdown",
   "id": "a4152a83-27ad-49fb-8da6-4b5ca4bc7eea",
   "metadata": {},
   "source": [
    "attempt 2:\n",
    "gets id's from posts tagged with language or libraries. case insensitive, gets more cases where the language is hidden inside a larger string. slow and long imnplementation. doesn't separate by language. "
   ]
  },
  {
   "cell_type": "code",
   "execution_count": 8,
   "id": "5b278700-bd76-4a50-a090-c75e09814818",
   "metadata": {},
   "outputs": [
    {
     "data": {
      "text/html": [
       "<div>\n",
       "<style scoped>\n",
       "    .dataframe tbody tr th:only-of-type {\n",
       "        vertical-align: middle;\n",
       "    }\n",
       "\n",
       "    .dataframe tbody tr th {\n",
       "        vertical-align: top;\n",
       "    }\n",
       "\n",
       "    .dataframe thead th {\n",
       "        text-align: right;\n",
       "    }\n",
       "</style>\n",
       "<table border=\"1\" class=\"dataframe\">\n",
       "  <thead>\n",
       "    <tr style=\"text-align: right;\">\n",
       "      <th></th>\n",
       "      <th>Id</th>\n",
       "      <th>Tag</th>\n",
       "    </tr>\n",
       "  </thead>\n",
       "  <tbody>\n",
       "    <tr>\n",
       "      <th>902207</th>\n",
       "      <td>11259570</td>\n",
       "      <td>cppcheck</td>\n",
       "    </tr>\n",
       "    <tr>\n",
       "      <th>962338</th>\n",
       "      <td>11916290</td>\n",
       "      <td>rcpp</td>\n",
       "    </tr>\n",
       "    <tr>\n",
       "      <th>1017367</th>\n",
       "      <td>12528930</td>\n",
       "      <td>activemq-cpp</td>\n",
       "    </tr>\n",
       "    <tr>\n",
       "      <th>1032255</th>\n",
       "      <td>12691710</td>\n",
       "      <td>rcpp</td>\n",
       "    </tr>\n",
       "    <tr>\n",
       "      <th>1047083</th>\n",
       "      <td>12857860</td>\n",
       "      <td>rcpp</td>\n",
       "    </tr>\n",
       "  </tbody>\n",
       "</table>\n",
       "</div>"
      ],
      "text/plain": [
       "               Id           Tag\n",
       "902207   11259570      cppcheck\n",
       "962338   11916290          rcpp\n",
       "1017367  12528930  activemq-cpp\n",
       "1032255  12691710          rcpp\n",
       "1047083  12857860          rcpp"
      ]
     },
     "execution_count": 8,
     "metadata": {},
     "output_type": "execute_result"
    }
   ],
   "source": [
    "out1 = t[t['Tag'].astype(str).str.contains('java', case=False)]\n",
    "out2 = t[t['Tag'].astype(str).str.contains('python', case=False)]\n",
    "out3 = t[t['Tag'].astype(str).str.contains('c\\+\\+', case=False)]\n",
    "out4 = t[t['Tag'].astype(str).str.contains('cpp', case=False)]\n",
    "#t_cpp = pd.DataFrame(t[t.Tag == 'c++'])\n",
    "frames = [out1, out2, out3, out4]\n",
    "out = pd.concat(frames)\n",
    "out.tail()"
   ]
  },
  {
   "cell_type": "markdown",
   "id": "364b2457-adc8-4919-ab61-506118a2f141",
   "metadata": {},
   "source": [
    "attempt 3: speed and clean up implementation. separate by language"
   ]
  },
  {
   "cell_type": "code",
   "execution_count": 9,
   "id": "42c3698c-7ec3-4825-a9e1-3c6437e19a43",
   "metadata": {},
   "outputs": [],
   "source": [
    "cpp_tags_list = ['c\\+\\+', 'cpp', 'boost', 'poco', 'googletest', 'tbb', 'cinder', 'wtl',\n",
    "                 'stdvector', 'stdstring', 'stdlist']\n",
    "c_tags_cpp_compatible = ['ffmpeg', 'openssl', 'sqlite', 'opencv']\n",
    "java_tags_list = ['java', 'guava', 'cglib', 'apache', 'jackson', 'c3p0', 'jms',\n",
    "                 'jodatime', 'gson', 'log4j', 'hslf', 'slf4j', 'junit', \n",
    "                 'mockito', 'spring', 'jmx', 'jaxb', 'httpclient'] #remember to remove Javascript!! \n",
    "python_tags_list = ['python', 'django', 'pybrain', 'keras', 'lightgbm', 'eli5', 'theano', \n",
    "                    'scipy', 'scrapy', 'scikit-learn', 'scikit', 'pygame', 'matplotlib', 'pytorch',\n",
    "                    'pandas', 'numpy']\n",
    "#libraries that encompass multiple languages\n",
    "multiple_tags_list = ['eclipse', 'wpf', 'tensorflow', 'maven', 'xerces'] \n",
    "# eclipse is java and c, sometimes c++\n",
    "# tensorflow is python and c++ and javascript\n",
    "# maven is java and c++\n",
    "# xerces is java and c++\n",
    "#std can appear in many languages????\n",
    "# WPF is C and C++\n",
    "\n",
    "\n",
    "cpp_pattern = '|'.join(cpp_tags_list)\n",
    "java_pattern = '|'.join(java_tags_list)\n",
    "python_pattern = '|'.join(python_tags_list)\n",
    "\n",
    "cpp_ids = t[t['Tag'].astype(str).str.contains(cpp_pattern, case=False)]\n",
    "java_ids = t[t['Tag'].astype(str).str.contains(java_pattern, case=False)]\n",
    "python_ids = t[t['Tag'].astype(str).str.contains(python_pattern, case=False)]\n",
    "\n",
    "#remove .h from c++, remove petapoco\n",
    "cpp_remove_list = ['', '']\n",
    "#remove Javascript, remove json, remove log4js\n",
    "\n",
    "\n"
   ]
  },
  {
   "cell_type": "code",
   "execution_count": 10,
   "id": "a123f447-97fc-4a30-8af3-d4d8d8a7d939",
   "metadata": {},
   "outputs": [
    {
     "name": "stdout",
     "output_type": "stream",
     "text": [
      "                 Tag  count\n",
      "0                c++  14691\n",
      "1         visual-c++   1012\n",
      "2              boost    731\n",
      "3              c++11    460\n",
      "4            c++-cli    230\n",
      "..               ...    ...\n",
      "110            c++1z      1\n",
      "111         yaml-cpp      1\n",
      "112     c++-concepts      1\n",
      "113  c++builder-2009      1\n",
      "114       boost-move      1\n",
      "\n",
      "[115 rows x 2 columns]\n",
      "               Tag  count\n",
      "0             java  29266\n",
      "1       javascript  26199\n",
      "2           spring   1954\n",
      "3           apache   1770\n",
      "4          java-ee    979\n",
      "..             ...    ...\n",
      "245    openid4java      1\n",
      "246        javapos      1\n",
      "247    java-canvas      1\n",
      "248  spring-nature      1\n",
      "249      spring-js      1\n",
      "\n",
      "[250 rows x 2 columns]\n",
      "                     Tag  count\n",
      "0                 python  13470\n",
      "1                 django   3862\n",
      "2          django-models    522\n",
      "3                  numpy    343\n",
      "4             python-3.x    315\n",
      "..                   ...    ...\n",
      "194    ironpython-studio      1\n",
      "195    python-webbrowser      1\n",
      "196  django-ajax-selects      1\n",
      "197       cocos2d-python      1\n",
      "198       python-sockets      1\n",
      "\n",
      "[199 rows x 2 columns]\n"
     ]
    }
   ],
   "source": [
    "\n",
    "print(cpp_ids['Tag'].value_counts(ascending=False).reset_index())\n",
    "print(java_ids['Tag'].value_counts(ascending=False).reset_index())\n",
    "print(python_ids['Tag'].value_counts(ascending=False).reset_index())"
   ]
  },
  {
   "cell_type": "code",
   "execution_count": 11,
   "id": "f3a0f715-ddc3-4843-a870-398169acba64",
   "metadata": {},
   "outputs": [],
   "source": [
    "questions_java = pd.merge(java_ids, q_clean, how='inner', on=['Id'])\n",
    "answers_java = pd.merge(java_ids, a_clean, how='inner', on=['Id'])\n",
    "\n",
    "questions_python = pd.merge(python_ids, q_clean, how='inner', on=['Id'])\n",
    "answers_python = pd.merge(python_ids, a_clean, how='inner', on=['Id'])\n",
    "\n",
    "questions_cpp = pd.merge(cpp_ids, q_clean, how='inner', on=['Id'])\n",
    "answers_cpp = pd.merge(cpp_ids, a_clean, how='inner', on=['Id'])"
   ]
  },
  {
   "cell_type": "code",
   "execution_count": 12,
   "id": "8c9606ae-aeba-40e8-93b7-783153afd770",
   "metadata": {},
   "outputs": [
    {
     "name": "stdout",
     "output_type": "stream",
     "text": [
      "             Id                      Tag          CreationDate  \\\n",
      "0          4080                     java  2008-08-06T22:45:27Z   \n",
      "1          4630                     java  2008-08-07T12:26:50Z   \n",
      "2          4630           java-web-start  2008-08-07T12:26:50Z   \n",
      "3          7540               javascript  2008-08-11T05:24:33Z   \n",
      "4          7720                     java  2008-08-11T12:37:50Z   \n",
      "...         ...                      ...                   ...   \n",
      "64918  12873840               javascript  2012-10-13T14:03:28Z   \n",
      "64919  12873910  facebook-javascript-sdk  2012-10-13T14:11:57Z   \n",
      "64920  12873970                     java  2012-10-13T14:19:01Z   \n",
      "64921  12873990               javascript  2012-10-13T14:22:03Z   \n",
      "64922  12874050                     java  2012-10-13T14:28:55Z   \n",
      "\n",
      "                 ClosedDate  Score  \\\n",
      "0      2012-05-05T13:39:59Z     92   \n",
      "1                       NaN      8   \n",
      "2                       NaN      8   \n",
      "3                       NaN      6   \n",
      "4                       NaN     33   \n",
      "...                     ...    ...   \n",
      "64918                   NaN      0   \n",
      "64919                   NaN      7   \n",
      "64920                   NaN      1   \n",
      "64921                   NaN      0   \n",
      "64922                   NaN      0   \n",
      "\n",
      "                                                   Title  \\\n",
      "0      what code analysis tools do you use for your j...   \n",
      "1      how can i java webstart multiple dependent nat...   \n",
      "2      how can i java webstart multiple dependent nat...   \n",
      "3      some kind of task manager for javascript in fi...   \n",
      "4      packaging java apps for the windows/linux desktop   \n",
      "...                                                  ...   \n",
      "64918                     hide ui datepicker on mouseout   \n",
      "64919  facebook like box get an error fbgetloginstatu...   \n",
      "64920          unrecognized image file format - uibinder   \n",
      "64921          scope in asynchronous calls in javascript   \n",
      "64922  how to configure the on your server spotlight ...   \n",
      "\n",
      "                                                    Body  \n",
      "0      <p>what code analysis tools do you use on your...  \n",
      "1      <p>example: i have two shared objects (same sh...  \n",
      "2      <p>example: i have two shared objects (same sh...  \n",
      "3      <p>recently i have been having issues with fir...  \n",
      "4      <p>i am writing an application in java for the...  \n",
      "...                                                  ...  \n",
      "64918  <p>i think this is not working because its per...  \n",
      "64919  <p>i'm using the module \"facebook like box\" in...  \n",
      "64920  <p>i'm getting this error when i put</p>\\n\\n<p...  \n",
      "64921  <p>i have the following code for the definitio...  \n",
      "64922  <p>i am using the <a href=\"https://githubcom/d...  \n",
      "\n",
      "[64923 rows x 7 columns]\n"
     ]
    }
   ],
   "source": [
    "print(questions_java)"
   ]
  },
  {
   "cell_type": "code",
   "execution_count": 13,
   "id": "4a76e670-0009-4ac8-a4b8-ae914af83177",
   "metadata": {},
   "outputs": [
    {
     "name": "stdout",
     "output_type": "stream",
     "text": [
      "              Id                      Tag          CreationDate  Score  \\\n",
      "0           4080                     java  2008-08-07T00:20:41Z      1   \n",
      "1           4080                     java  2008-08-07T07:18:26Z      4   \n",
      "2           4080                     java  2008-08-07T07:21:49Z      3   \n",
      "3           4080                     java  2008-08-08T14:53:12Z      0   \n",
      "4           4080                     java  2008-08-16T18:48:43Z     11   \n",
      "...          ...                      ...                   ...    ...   \n",
      "146594  12873910  facebook-javascript-sdk  2012-10-13T18:47:20Z      9   \n",
      "146595  12873970                     java  2012-10-13T14:24:35Z      0   \n",
      "146596  12873970                     java  2012-10-13T17:33:34Z      2   \n",
      "146597  12873990               javascript  2012-10-13T14:22:52Z      1   \n",
      "146598  12874050                     java  2012-10-13T18:50:36Z      1   \n",
      "\n",
      "                                                     Body  \n",
      "0       <p>we use findbugs and jdepend integrated with...  \n",
      "1       <p><a href=\"http://checkstylesourceforgenet/\" ...  \n",
      "2       <p>we are using findbugs and checkstyle as wel...  \n",
      "3       <p>i am looking for many answers to learn abou...  \n",
      "4       <p>all of the following we use and integrate e...  \n",
      "...                                                   ...  \n",
      "146594  <p>this happen because you don't add an appid ...  \n",
      "146595  <p>do you use cvs and chekced the image into t...  \n",
      "146596  <p>there appears to be an issue with particula...  \n",
      "146597  <p>this isn't really a scope problem but a con...  \n",
      "146598  <p>the quickstart comes with tiny versions of ...  \n",
      "\n",
      "[146599 rows x 5 columns]\n"
     ]
    }
   ],
   "source": [
    "print(answers_java)"
   ]
  },
  {
   "cell_type": "code",
   "execution_count": 14,
   "id": "916ac70d-28cd-444f-ab4d-a30bb4f17b74",
   "metadata": {},
   "outputs": [],
   "source": [
    "questions_java[['Body','Title']].to_csv(\"Questions_Java.csv\", header=None, index=None, sep=' ')\n",
    "answers_java[['Body']].to_csv(\"Answers_Java.csv\", header=None, index=None, sep=' ')\n",
    "questions_cpp[['Body','Title']].to_csv(\"Questions_Cpp.csv\", header=None, index=None, sep=' ')\n",
    "answers_cpp[['Body']].to_csv(\"Answers_Cpp.csv\", header=None, index=None, sep=' ')\n",
    "questions_python[['Body','Title']].to_csv(\"Questions_Python.csv\", header=None, index=None, sep=' ')\n",
    "answers_python[['Body']].to_csv(\"Answers_Python.csv\", header=None, index=None, sep=' ')"
   ]
  },
  {
   "cell_type": "code",
   "execution_count": null,
   "id": "d5dcba80-65da-4c99-8d51-e60c5efa44ad",
   "metadata": {},
   "outputs": [],
   "source": [
    "https://towardsdatascience.com/end-to-end-topic-modeling-in-python-latent-dirichlet-allocation-lda-35ce4ed6b3e0"
   ]
  },
  {
   "cell_type": "code",
   "execution_count": 19,
   "id": "5631a5b6-38e2-4e21-ae35-75d1c3f36c30",
   "metadata": {},
   "outputs": [
    {
     "name": "stderr",
     "output_type": "stream",
     "text": [
      "[nltk_data] Downloading package stopwords to\n",
      "[nltk_data]     C:\\Users\\sewol\\AppData\\Roaming\\nltk_data...\n",
      "[nltk_data]   Package stopwords is already up-to-date!\n"
     ]
    },
    {
     "name": "stdout",
     "output_type": "stream",
     "text": [
      "['analysis', 'tools', 'java', 'projects', 'interested', 'kinds', 'ul', 'static', 'analysis', 'tools', 'findbugs', 'pmd', 'others', 'coverage', 'tools', 'cobertura', 'emma', 'others', 'instrumentation', 'based', 'tools', 'anything', 'else', 'missing', 'something', 'ul', 'applicable', 'also', 'state', 'build']\n"
     ]
    }
   ],
   "source": [
    "import gensim\n",
    "from gensim.utils import simple_preprocess\n",
    "import nltk\n",
    "nltk.download('stopwords')\n",
    "from nltk.corpus import stopwords\n",
    "stop_words = stopwords.words('english')\n",
    "stop_words.extend(['from', 'subject', 're', 'edu', 'use', 'code', 'error', 'li'])\n",
    "def sent_to_words(sentences):\n",
    "    for sentence in sentences:\n",
    "        # deacc=True removes punctuations\n",
    "        yield(gensim.utils.simple_preprocess(str(sentence), deacc=True))\n",
    "def remove_stopwords(texts):\n",
    "    return [[word for word in simple_preprocess(str(doc)) \n",
    "             if word not in stop_words] for doc in texts]\n",
    "data = questions_java['Body']\n",
    "data_words = list(sent_to_words(data))\n",
    "# remove stop words\n",
    "data_words = remove_stopwords(data_words)\n",
    "print(data_words[:1][0][:30])"
   ]
  },
  {
   "cell_type": "code",
   "execution_count": 17,
   "id": "e4be7ee9-2ad4-4b14-912f-f2041dce717a",
   "metadata": {},
   "outputs": [
    {
     "name": "stdout",
     "output_type": "stream",
     "text": [
      "[['body'], ['title']]\n"
     ]
    }
   ],
   "source": [
    "print(data_words)"
   ]
  },
  {
   "cell_type": "code",
   "execution_count": null,
   "id": "fa399c1f-df34-4bba-bdbd-be198b7df0e3",
   "metadata": {},
   "outputs": [],
   "source": [
    "import gensim.corpora as corpora\n",
    "# Create Dictionary\n",
    "id2word = corpora.Dictionary(data_words)\n",
    "# Create Corpus\n",
    "texts = data_words\n",
    "# Term Document Frequency\n",
    "corpus = [id2word.doc2bow(text) for text in texts]\n",
    "# View\n",
    "print(corpus[:1][0][:30])"
   ]
  },
  {
   "cell_type": "code",
   "execution_count": null,
   "id": "ef8e4220-820f-4740-81a6-fc0406c018d4",
   "metadata": {},
   "outputs": [],
   "source": [
    "from pprint import pprint\n",
    "# number of topics\n",
    "num_topics = 10\n",
    "# Build LDA model\n",
    "lda_model = gensim.models.LdaMulticore(corpus=corpus,\n",
    "                                       id2word=id2word,\n",
    "                                       num_topics=num_topics)\n",
    "# Print the Keyword in the 10 topics\n",
    "pprint(lda_model.print_topics())\n",
    "doc_lda = lda_model[corpus]"
   ]
  }
 ],
 "metadata": {
  "kernelspec": {
   "display_name": "Python 3 (ipykernel)",
   "language": "python",
   "name": "python3"
  },
  "language_info": {
   "codemirror_mode": {
    "name": "ipython",
    "version": 3
   },
   "file_extension": ".py",
   "mimetype": "text/x-python",
   "name": "python",
   "nbconvert_exporter": "python",
   "pygments_lexer": "ipython3",
   "version": "3.10.2"
  }
 },
 "nbformat": 4,
 "nbformat_minor": 5
}
