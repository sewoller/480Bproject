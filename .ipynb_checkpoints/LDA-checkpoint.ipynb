{
 "cells": [
  {
   "cell_type": "code",
   "execution_count": 1,
   "id": "4b217e95-50ed-410e-8ce2-13814d407422",
   "metadata": {},
   "outputs": [],
   "source": [
    "#import libraries\n",
    "import pandas as pd\n",
    "\n",
    "# ignore warnings\n",
    "import warnings\n",
    "warnings.filterwarnings('ignore')"
   ]
  },
  {
   "cell_type": "code",
   "execution_count": 2,
   "id": "6c98aa50-39ea-444c-be12-3002df321f38",
   "metadata": {},
   "outputs": [],
   "source": [
    "a = pd.read_csv('Answers.csv', usecols = ['Id', 'OwnerUserId', 'CreationDate', 'ParentId', 'Score', 'Body'], low_memory=False)\n",
    "q = pd.read_csv('Questions.csv', usecols = ['Id', 'OwnerUserId', 'CreationDate', 'ClosedDate', 'Score', 'Title', 'Body'], low_memory=False)\n",
    "t = pd.read_csv('Tags.csv', usecols = ['Id', 'Tag'], low_memory=False)\n",
    "\n",
    "q_clean = q\n",
    "q_clean = q_clean[q_clean['Id'].str.contains('\\D') == False]\n",
    "q_clean['Id'] = q_clean['Id'].astype(str).astype(int)\n",
    "q_clean = q_clean[q_clean['Score'].str.contains('\\D') == False]\n",
    "q_clean['Score'] = q_clean['Score'].astype(str).astype(int)\n",
    "q_clean.drop([\"OwnerUserId\"], axis=1, inplace=True)\n",
    "\n",
    "a_clean = a\n",
    "a_clean.drop([\"Id\", \"OwnerUserId\"], axis=1, inplace=True)\n",
    "a_clean.rename(columns={'ParentId' : 'Id'}, inplace=True)"
   ]
  },
  {
   "cell_type": "code",
   "execution_count": 3,
   "id": "07c71dd0-3c15-4883-807a-0e9f7e59f7fd",
   "metadata": {},
   "outputs": [
    {
     "name": "stdout",
     "output_type": "stream",
     "text": [
      "(1048575, 2)\n",
      "(21984,)\n"
     ]
    }
   ],
   "source": [
    "print(t.shape) #1,048,575 rows\n",
    "print(t['Tag'].unique().shape) # 21,984 unique values\n",
    "#\n",
    "unique_tags = t['Tag'].value_counts(ascending=False).reset_index()\n",
    "# tags = pd.DataFrame(t[t.Tag == '*c*'])\n",
    "# print(tags.shape)\n",
    "# tags.head(15)"
   ]
  },
  {
   "cell_type": "markdown",
   "id": "0dc1c46d-f9a3-4713-9414-a90337b03e7e",
   "metadata": {},
   "source": [
    "<h1>Get all Id from posts with relevent tags</h1>"
   ]
  },
  {
   "cell_type": "markdown",
   "id": "c7367fb1-7887-48e2-aca6-69047149486b",
   "metadata": {},
   "source": [
    "attempt 1:\n",
    "only gets id's from posts tagged with the language. no information on libraries. "
   ]
  },
  {
   "cell_type": "code",
   "execution_count": 4,
   "id": "431c071f-1a0c-4a97-bd11-f80993a20987",
   "metadata": {},
   "outputs": [],
   "source": [
    "t_java = pd.DataFrame(t[t.Tag == 'java'])\n",
    "t_python = pd.DataFrame(t[t.Tag == 'python'])\n",
    "t_cpp = pd.DataFrame(t[t.Tag == 'c++'])\n",
    "t_java = pd.DataFrame(t[t.Tag == 'java'])\n",
    "t_python = pd.DataFrame(t[t.Tag == 'python'])\n",
    "t_cpp = pd.DataFrame(t[t.Tag == 'c++'])"
   ]
  },
  {
   "cell_type": "markdown",
   "id": "a4152a83-27ad-49fb-8da6-4b5ca4bc7eea",
   "metadata": {},
   "source": [
    "attempt 2:\n",
    "gets id's from posts tagged with language or libraries. case insensitive, gets more cases where the language is hidden inside a larger string. slow and long imnplementation. doesn't separate by language. "
   ]
  },
  {
   "cell_type": "code",
   "execution_count": 5,
   "id": "5b278700-bd76-4a50-a090-c75e09814818",
   "metadata": {},
   "outputs": [
    {
     "data": {
      "text/html": [
       "<div>\n",
       "<style scoped>\n",
       "    .dataframe tbody tr th:only-of-type {\n",
       "        vertical-align: middle;\n",
       "    }\n",
       "\n",
       "    .dataframe tbody tr th {\n",
       "        vertical-align: top;\n",
       "    }\n",
       "\n",
       "    .dataframe thead th {\n",
       "        text-align: right;\n",
       "    }\n",
       "</style>\n",
       "<table border=\"1\" class=\"dataframe\">\n",
       "  <thead>\n",
       "    <tr style=\"text-align: right;\">\n",
       "      <th></th>\n",
       "      <th>Id</th>\n",
       "      <th>Tag</th>\n",
       "    </tr>\n",
       "  </thead>\n",
       "  <tbody>\n",
       "    <tr>\n",
       "      <th>902207</th>\n",
       "      <td>11259570</td>\n",
       "      <td>cppcheck</td>\n",
       "    </tr>\n",
       "    <tr>\n",
       "      <th>962338</th>\n",
       "      <td>11916290</td>\n",
       "      <td>rcpp</td>\n",
       "    </tr>\n",
       "    <tr>\n",
       "      <th>1017367</th>\n",
       "      <td>12528930</td>\n",
       "      <td>activemq-cpp</td>\n",
       "    </tr>\n",
       "    <tr>\n",
       "      <th>1032255</th>\n",
       "      <td>12691710</td>\n",
       "      <td>rcpp</td>\n",
       "    </tr>\n",
       "    <tr>\n",
       "      <th>1047083</th>\n",
       "      <td>12857860</td>\n",
       "      <td>rcpp</td>\n",
       "    </tr>\n",
       "  </tbody>\n",
       "</table>\n",
       "</div>"
      ],
      "text/plain": [
       "               Id           Tag\n",
       "902207   11259570      cppcheck\n",
       "962338   11916290          rcpp\n",
       "1017367  12528930  activemq-cpp\n",
       "1032255  12691710          rcpp\n",
       "1047083  12857860          rcpp"
      ]
     },
     "execution_count": 5,
     "metadata": {},
     "output_type": "execute_result"
    }
   ],
   "source": [
    "out1 = t[t['Tag'].astype(str).str.contains('java', case=False)]\n",
    "out2 = t[t['Tag'].astype(str).str.contains('python', case=False)]\n",
    "out3 = t[t['Tag'].astype(str).str.contains('c\\+\\+', case=False)]\n",
    "out4 = t[t['Tag'].astype(str).str.contains('cpp', case=False)]\n",
    "#t_cpp = pd.DataFrame(t[t.Tag == 'c++'])\n",
    "frames = [out1, out2, out3, out4]\n",
    "out = pd.concat(frames)\n",
    "out.tail()"
   ]
  },
  {
   "cell_type": "markdown",
   "id": "364b2457-adc8-4919-ab61-506118a2f141",
   "metadata": {},
   "source": [
    "attempt 3: speed and clean up implementation. separate by language"
   ]
  },
  {
   "cell_type": "code",
   "execution_count": 6,
   "id": "42c3698c-7ec3-4825-a9e1-3c6437e19a43",
   "metadata": {},
   "outputs": [],
   "source": [
    "cpp_tags_list = ['c\\+\\+', 'cpp', 'boost', 'poco', 'googletest', 'tbb', 'cinder', 'wtl',\n",
    "                 'stdvector', 'stdstring', 'stdlist']\n",
    "c_tags_cpp_compatible = ['ffmpeg', 'openssl', 'sqlite', 'opencv']\n",
    "java_tags_list = ['java', 'guava', 'cglib', 'apache', 'jackson', 'c3p0', 'jms',\n",
    "                 'jodatime', 'gson', 'log4j', 'hslf', 'slf4j', 'junit', \n",
    "                 'mockito', 'spring', 'jmx', 'jaxb', 'httpclient'] #remember to remove Javascript!! \n",
    "python_tags_list = ['python', 'django', 'pybrain', 'keras', 'lightgbm', 'eli5', 'theano', \n",
    "                    'scipy', 'scrapy', 'scikit-learn', 'scikit', 'pygame', 'matplotlib', 'pytorch',\n",
    "                    'pandas', 'numpy']\n",
    "#libraries that encompass multiple languages\n",
    "multiple_tags_list = ['eclipse', 'wpf', 'tensorflow', 'maven', 'xerces'] \n",
    "# eclipse is java and c, sometimes c++\n",
    "# tensorflow is python and c++ and javascript\n",
    "# maven is java and c++\n",
    "# xerces is java and c++\n",
    "#std can appear in many languages????\n",
    "# WPF is C and C++\n",
    "\n",
    "\n",
    "cpp_pattern = '|'.join(cpp_tags_list)\n",
    "java_pattern = '|'.join(java_tags_list)\n",
    "python_pattern = '|'.join(python_tags_list)\n",
    "\n",
    "cpp_ids = t[t['Tag'].astype(str).str.contains(cpp_pattern, case=False)]\n",
    "java_ids = t[t['Tag'].astype(str).str.contains(java_pattern, case=False)]\n",
    "python_ids = t[t['Tag'].astype(str).str.contains(python_pattern, case=False)]\n",
    "\n",
    "#remove .h from c++, remove petapoco\n",
    "cpp_remove_list = ['', '']\n",
    "#remove Javascript, remove json, remove log4js\n",
    "\n",
    "\n"
   ]
  },
  {
   "cell_type": "code",
   "execution_count": 9,
   "id": "a123f447-97fc-4a30-8af3-d4d8d8a7d939",
   "metadata": {},
   "outputs": [
    {
     "name": "stdout",
     "output_type": "stream",
     "text": [
      "                      Tag  count\n",
      "0                     c++  14691\n",
      "1              visual-c++   1012\n",
      "2                   boost    731\n",
      "3                   c++11    460\n",
      "4                 c++-cli    230\n",
      "5              boost-asio    106\n",
      "6              c++builder     91\n",
      "7                    poco     78\n",
      "8           objective-c++     50\n",
      "9            boost-thread     38\n",
      "10           boost-spirit     31\n",
      "11             googletest     30\n",
      "12              stdvector     29\n",
      "13            managed-c++     28\n",
      "14              stdstring     25\n",
      "15           boost-python     22\n",
      "16              boost-mpl     21\n",
      "17                    tbb     21\n",
      "18             boost-bind     19\n",
      "19        visual-c++-2010     19\n",
      "20                c++-faq     17\n",
      "21        boost-spirit-qi     17\n",
      "22            boost-graph     15\n",
      "23                dev-c++     15\n",
      "24               petapoco     14\n",
      "25                   rcpp     13\n",
      "26        visual-c++-2008     13\n",
      "27             boost-test     13\n",
      "28              libstdc++     11\n",
      "29                    wtl     11\n",
      "30    boost-serialization     11\n",
      "31            boost-regex     10\n",
      "32         boost-function     10\n",
      "33                cppunit     10\n",
      "34       boost-filesystem      9\n",
      "35         poco-libraries      9\n",
      "36                  c++03      9\n",
      "37     boost-propertytree      8\n",
      "38     boost-interprocess      8\n",
      "39  boost-program-options      8\n",
      "40   c++-standard-library      8\n",
      "41        visual-c++-2005      7\n",
      "42                 c++-cx      7\n",
      "43            borland-c++      6\n",
      "44                stdlist      6\n",
      "45        boost-iostreams      6\n",
      "46         c++builder-xe2      6\n",
      "47           activemq-cpp      6\n",
      "48        boost-date-time      6\n",
      "49           boost-lambda      6\n",
      "                        Tag  count\n",
      "0                      java  29266\n",
      "1                javascript  26199\n",
      "2                    spring   1954\n",
      "3                    apache   1770\n",
      "4                   java-ee    979\n",
      "5                spring-mvc    690\n",
      "6         javascript-events    647\n",
      "7                   java-me    473\n",
      "8                     junit    385\n",
      "9           spring-security    270\n",
      "10                     jaxb    239\n",
      "11                    log4j    224\n",
      "12                  apache2    221\n",
      "13                      jms    155\n",
      "14  facebook-javascript-sdk    132\n",
      "15               httpclient    127\n",
      "16                javabeans    121\n",
      "17                  javadoc    102\n",
      "18                  jackson    100\n",
      "19                java-ee-6     95\n",
      "20               apache-poi     85\n",
      "21                 javamail     83\n",
      "22                 javafx-2     82\n",
      "23                     gson     80\n",
      "24                    guava     76\n",
      "                       Tag  count\n",
      "0                   python  13470\n",
      "1                   django   3862\n",
      "2            django-models    522\n",
      "3                    numpy    343\n",
      "4               python-3.x    315\n",
      "5         django-templates    302\n",
      "6             django-admin    266\n",
      "7               matplotlib    252\n",
      "8             django-forms    249\n",
      "9               python-2.7    222\n",
      "10                wxpython    212\n",
      "11            django-views    148\n",
      "12                   scipy    117\n",
      "13  python-imaging-library    101\n",
      "14              ironpython     98\n",
      "15         django-queryset     81\n",
      "16                  pygame     75\n",
      "17                 ipython     64\n",
      "18             django-urls     57\n",
      "19            mysql-python     51\n",
      "20                  scrapy     50\n",
      "21                  pandas     44\n",
      "22            django-south     41\n",
      "23              django-orm     40\n",
      "24   django-authentication     38\n"
     ]
    }
   ],
   "source": [
    "\n",
    "print(cpp_ids['Tag'].value_counts(ascending=False).reset_index().head(50))\n",
    "print(java_ids['Tag'].value_counts(ascending=False).reset_index().head(25))\n",
    "print(python_ids['Tag'].value_counts(ascending=False).reset_index().head(25))"
   ]
  }
 ],
 "metadata": {
  "kernelspec": {
   "display_name": "Python 3 (ipykernel)",
   "language": "python",
   "name": "python3"
  },
  "language_info": {
   "codemirror_mode": {
    "name": "ipython",
    "version": 3
   },
   "file_extension": ".py",
   "mimetype": "text/x-python",
   "name": "python",
   "nbconvert_exporter": "python",
   "pygments_lexer": "ipython3",
   "version": "3.10.2"
  }
 },
 "nbformat": 4,
 "nbformat_minor": 5
}
