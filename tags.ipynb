{
 "cells": [
  {
   "cell_type": "code",
   "execution_count": 1,
   "id": "4b217e95-50ed-410e-8ce2-13814d407422",
   "metadata": {},
   "outputs": [
    {
     "name": "stdout",
     "output_type": "stream",
     "text": [
      "<class 'pandas.core.frame.DataFrame'>\n",
      "Index: 976367 entries, 0 to 1048574\n",
      "Data columns (total 6 columns):\n",
      " #   Column        Non-Null Count   Dtype \n",
      "---  ------        --------------   ----- \n",
      " 0   Id            976367 non-null  int32 \n",
      " 1   CreationDate  976367 non-null  object\n",
      " 2   ClosedDate    31217 non-null   object\n",
      " 3   Score         976367 non-null  int32 \n",
      " 4   Title         976367 non-null  object\n",
      " 5   Body          976366 non-null  object\n",
      "dtypes: int32(2), object(4)\n",
      "memory usage: 44.7+ MB\n",
      "None\n"
     ]
    }
   ],
   "source": [
    "#import libraries\n",
    "import pandas as pd\n",
    "\n",
    "# ignore warnings\n",
    "import warnings\n",
    "warnings.filterwarnings('ignore')\n",
    "\n",
    "a = pd.read_csv('Answers.csv', usecols = ['Id', 'OwnerUserId', 'CreationDate', 'ParentId', 'Score', 'Body'], low_memory=False)\n",
    "q = pd.read_csv('Questions.csv', usecols = ['Id', 'OwnerUserId', 'CreationDate', 'ClosedDate', 'Score', 'Title', 'Body'], low_memory=False)\n",
    "t = pd.read_csv('Tags.csv', usecols = ['Id', 'Tag'], low_memory=False)\n",
    "\n",
    "q_clean = q\n",
    "q_clean = q_clean[q_clean['Id'].str.contains('\\D') == False]\n",
    "q_clean['Id'] = q_clean['Id'].astype(str).astype(int)\n",
    "q_clean = q_clean[q_clean['Score'].str.contains('\\D') == False]\n",
    "q_clean['Score'] = q_clean['Score'].astype(str).astype(int)\n",
    "q_clean.drop([\"OwnerUserId\"], axis=1, inplace=True)\n",
    "print(q_clean.info())\n",
    "\n",
    "a_clean = a\n",
    "a_clean.drop([\"Id\", \"OwnerUserId\"], axis=1, inplace=True)\n",
    "a_clean.rename(columns={'ParentId' : 'Id'}, inplace=True)"
   ]
  },
  {
   "cell_type": "code",
   "execution_count": 18,
   "id": "07c71dd0-3c15-4883-807a-0e9f7e59f7fd",
   "metadata": {},
   "outputs": [
    {
     "name": "stdout",
     "output_type": "stream",
     "text": [
      "(1048575, 2)\n",
      "(21984,)\n"
     ]
    }
   ],
   "source": [
    "print(t.shape) #1,048,575 rows\n",
    "print(t['Tag'].unique().shape) # 21,984 unique values\n",
    "#\n",
    "unique_tags = t['Tag'].value_counts(ascending=False).reset_index()\n",
    "# tags = pd.DataFrame(t[t.Tag == '*c*'])\n",
    "# print(tags.shape)\n",
    "# tags.head(15)"
   ]
  },
  {
   "cell_type": "markdown",
   "id": "0dc1c46d-f9a3-4713-9414-a90337b03e7e",
   "metadata": {},
   "source": [
    "<h1>Get all Id from posts with relevent tags</h1>"
   ]
  },
  {
   "cell_type": "markdown",
   "id": "c7367fb1-7887-48e2-aca6-69047149486b",
   "metadata": {},
   "source": [
    "attempt 1:\n",
    "only gets id's from posts tagged with the language. no information on libraries. "
   ]
  },
  {
   "cell_type": "code",
   "execution_count": null,
   "id": "431c071f-1a0c-4a97-bd11-f80993a20987",
   "metadata": {},
   "outputs": [],
   "source": [
    "t_java = pd.DataFrame(t[t.Tag == 'java'])\n",
    "t_python = pd.DataFrame(t[t.Tag == 'python'])\n",
    "t_cpp = pd.DataFrame(t[t.Tag == 'c++'])\n",
    "t_java = pd.DataFrame(t[t.Tag == 'java'])\n",
    "t_python = pd.DataFrame(t[t.Tag == 'python'])\n",
    "t_cpp = pd.DataFrame(t[t.Tag == 'c++'])"
   ]
  },
  {
   "cell_type": "markdown",
   "id": "a4152a83-27ad-49fb-8da6-4b5ca4bc7eea",
   "metadata": {},
   "source": [
    "attempt 2:\n",
    "gets id's from posts tagged with language or libraries. case insensitive, gets more cases where the language is hidden inside a larger string. slow and long imnplementation. doesn't separate by language. "
   ]
  },
  {
   "cell_type": "code",
   "execution_count": 56,
   "id": "5b278700-bd76-4a50-a090-c75e09814818",
   "metadata": {},
   "outputs": [
    {
     "data": {
      "text/html": [
       "<div>\n",
       "<style scoped>\n",
       "    .dataframe tbody tr th:only-of-type {\n",
       "        vertical-align: middle;\n",
       "    }\n",
       "\n",
       "    .dataframe tbody tr th {\n",
       "        vertical-align: top;\n",
       "    }\n",
       "\n",
       "    .dataframe thead th {\n",
       "        text-align: right;\n",
       "    }\n",
       "</style>\n",
       "<table border=\"1\" class=\"dataframe\">\n",
       "  <thead>\n",
       "    <tr style=\"text-align: right;\">\n",
       "      <th></th>\n",
       "      <th>Id</th>\n",
       "      <th>Tag</th>\n",
       "    </tr>\n",
       "  </thead>\n",
       "  <tbody>\n",
       "    <tr>\n",
       "      <th>902207</th>\n",
       "      <td>11259570</td>\n",
       "      <td>cppcheck</td>\n",
       "    </tr>\n",
       "    <tr>\n",
       "      <th>962338</th>\n",
       "      <td>11916290</td>\n",
       "      <td>rcpp</td>\n",
       "    </tr>\n",
       "    <tr>\n",
       "      <th>1017367</th>\n",
       "      <td>12528930</td>\n",
       "      <td>activemq-cpp</td>\n",
       "    </tr>\n",
       "    <tr>\n",
       "      <th>1032255</th>\n",
       "      <td>12691710</td>\n",
       "      <td>rcpp</td>\n",
       "    </tr>\n",
       "    <tr>\n",
       "      <th>1047083</th>\n",
       "      <td>12857860</td>\n",
       "      <td>rcpp</td>\n",
       "    </tr>\n",
       "  </tbody>\n",
       "</table>\n",
       "</div>"
      ],
      "text/plain": [
       "               Id           Tag\n",
       "902207   11259570      cppcheck\n",
       "962338   11916290          rcpp\n",
       "1017367  12528930  activemq-cpp\n",
       "1032255  12691710          rcpp\n",
       "1047083  12857860          rcpp"
      ]
     },
     "execution_count": 56,
     "metadata": {},
     "output_type": "execute_result"
    }
   ],
   "source": [
    "out1 = t[t['Tag'].astype(str).str.contains('java', case=False)]\n",
    "out2 = t[t['Tag'].astype(str).str.contains('python', case=False)]\n",
    "out3 = t[t['Tag'].astype(str).str.contains('c\\+\\+', case=False)]\n",
    "out4 = t[t['Tag'].astype(str).str.contains('cpp', case=False)]\n",
    "#t_cpp = pd.DataFrame(t[t.Tag == 'c++'])\n",
    "frames = [out1, out2, out3, out4]\n",
    "out = pd.concat(frames)\n",
    "out.tail()"
   ]
  },
  {
   "cell_type": "markdown",
   "id": "364b2457-adc8-4919-ab61-506118a2f141",
   "metadata": {},
   "source": [
    "attempt 3: speed and clean up implementation. separate by language"
   ]
  },
  {
   "cell_type": "code",
   "execution_count": 65,
   "id": "42c3698c-7ec3-4825-a9e1-3c6437e19a43",
   "metadata": {},
   "outputs": [
    {
     "name": "stdout",
     "output_type": "stream",
     "text": [
      "                 Tag  count\n",
      "0                c++  14691\n",
      "1         visual-c++   1012\n",
      "2              boost    731\n",
      "3              c++11    460\n",
      "4            c++-cli    230\n",
      "..               ...    ...\n",
      "110            c++1z      1\n",
      "111         yaml-cpp      1\n",
      "112     c++-concepts      1\n",
      "113  c++builder-2009      1\n",
      "114       boost-move      1\n",
      "\n",
      "[115 rows x 2 columns]\n",
      "               Tag  count\n",
      "0             java  29266\n",
      "1       javascript  26199\n",
      "2           spring   1954\n",
      "3           apache   1770\n",
      "4          java-ee    979\n",
      "..             ...    ...\n",
      "245    openid4java      1\n",
      "246        javapos      1\n",
      "247    java-canvas      1\n",
      "248  spring-nature      1\n",
      "249      spring-js      1\n",
      "\n",
      "[250 rows x 2 columns]\n",
      "                     Tag  count\n",
      "0                 python  13470\n",
      "1                 django   3862\n",
      "2          django-models    522\n",
      "3                  numpy    343\n",
      "4             python-3.x    315\n",
      "..                   ...    ...\n",
      "194    ironpython-studio      1\n",
      "195    python-webbrowser      1\n",
      "196  django-ajax-selects      1\n",
      "197       cocos2d-python      1\n",
      "198       python-sockets      1\n",
      "\n",
      "[199 rows x 2 columns]\n"
     ]
    }
   ],
   "source": [
    "cpp_tags_list = ['c\\+\\+', 'cpp', 'boost', 'poco', 'googletest', 'tbb', 'cinder', 'wtl',\n",
    "                 'stdvector', 'stdstring', 'stdlist']\n",
    "c_tags_cpp_compatible = ['ffmpeg', 'openssl', 'sqlite', 'opencv']\n",
    "java_tags_list = ['java', 'guava', 'cglib', 'apache', 'jackson', 'c3p0', 'jms',\n",
    "                 'jodatime', 'gson', 'log4j', 'hslf', 'slf4j', 'junit', \n",
    "                 'mockito', 'spring', 'jmx', 'jaxb', 'httpclient'] #remember to remove Javascript!! \n",
    "python_tags_list = ['python', 'django', 'pybrain', 'keras', 'lightgbm', 'eli5', 'theano', \n",
    "                    'scipy', 'scrapy', 'scikit-learn', 'scikit', 'pygame', 'matplotlib', 'pytorch',\n",
    "                    'pandas', 'numpy']\n",
    "#libraries that encompass multiple languages\n",
    "multiple_tags_list = ['eclipse', 'wpf', 'tensorflow', 'maven', 'xerces'] \n",
    "# eclipse is java and c, sometimes c++\n",
    "# tensorflow is python and c++ and javascript\n",
    "# maven is java and c++\n",
    "# xerces is java and c++\n",
    "#std can appear in many languages????\n",
    "# WPF is C and C++\n",
    "\n",
    "\n",
    "cpp_pattern = '|'.join(cpp_tags_list)\n",
    "java_pattern = '|'.join(java_tags_list)\n",
    "python_pattern = '|'.join(python_tags_list)\n",
    "\n",
    "cpp_ids = t[t['Tag'].astype(str).str.contains(cpp_pattern, case=False)]\n",
    "java_ids = t[t['Tag'].astype(str).str.contains(java_pattern, case=False)]\n",
    "python_ids = t[t['Tag'].astype(str).str.contains(python_pattern, case=False)]\n",
    "\n",
    "#remove .h from c++, remove petapoco\n",
    "#remove Javascript, remove json, remove log4js\n",
    "\n",
    "\n"
   ]
  },
  {
   "cell_type": "code",
   "execution_count": 66,
   "id": "a123f447-97fc-4a30-8af3-d4d8d8a7d939",
   "metadata": {},
   "outputs": [
    {
     "name": "stdout",
     "output_type": "stream",
     "text": [
      "             Tag  count\n",
      "0            c++  14691\n",
      "1     visual-c++   1012\n",
      "2          boost    731\n",
      "3          c++11    460\n",
      "4        c++-cli    230\n",
      "5     boost-asio    106\n",
      "6     c++builder     91\n",
      "7           poco     78\n",
      "8  objective-c++     50\n",
      "9   boost-thread     38\n",
      "                 Tag  count\n",
      "0               java  29266\n",
      "1         javascript  26199\n",
      "2             spring   1954\n",
      "3             apache   1770\n",
      "4            java-ee    979\n",
      "5         spring-mvc    690\n",
      "6  javascript-events    647\n",
      "7            java-me    473\n",
      "8              junit    385\n",
      "9    spring-security    270\n",
      "                Tag  count\n",
      "0            python  13470\n",
      "1            django   3862\n",
      "2     django-models    522\n",
      "3             numpy    343\n",
      "4        python-3.x    315\n",
      "5  django-templates    302\n",
      "6      django-admin    266\n",
      "7        matplotlib    252\n",
      "8      django-forms    249\n",
      "9        python-2.7    222\n"
     ]
    }
   ],
   "source": [
    "\n",
    "print(cpp_ids['Tag'].value_counts(ascending=False).reset_index().head(10))\n",
    "print(java_ids['Tag'].value_counts(ascending=False).reset_index().head(10))\n",
    "print(python_ids['Tag'].value_counts(ascending=False).reset_index().head(10))"
   ]
  }
 ],
 "metadata": {
  "kernelspec": {
   "display_name": "Python 3 (ipykernel)",
   "language": "python",
   "name": "python3"
  },
  "language_info": {
   "codemirror_mode": {
    "name": "ipython",
    "version": 3
   },
   "file_extension": ".py",
   "mimetype": "text/x-python",
   "name": "python",
   "nbconvert_exporter": "python",
   "pygments_lexer": "ipython3",
   "version": "3.10.2"
  }
 },
 "nbformat": 4,
 "nbformat_minor": 5
}
